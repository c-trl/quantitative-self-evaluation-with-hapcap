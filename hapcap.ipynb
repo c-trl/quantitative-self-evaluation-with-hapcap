{
 "metadata": {
  "name": "",
  "signature": "sha256:c8a0522e231a91bd2b023058d6294f2eba76aa544b54f5e491b5f5edff5fcf84"
 },
 "nbformat": 3,
 "nbformat_minor": 0,
 "worksheets": [
  {
   "cells": [
    {
     "cell_type": "markdown",
     "metadata": {},
     "source": [
      "#Maslow's Hierarchy of Needs"
     ]
    },
    {
     "cell_type": "code",
     "collapsed": false,
     "input": [
      "#Setup"
     ],
     "language": "python",
     "metadata": {},
     "outputs": [],
     "prompt_number": 1
    },
    {
     "cell_type": "code",
     "collapsed": false,
     "input": [
      "import matplotlib as mpl\n",
      "from matplotlib import pyplot as plt\n",
      "\n",
      "import pandas as pd"
     ],
     "language": "python",
     "metadata": {},
     "outputs": [],
     "prompt_number": 2
    },
    {
     "cell_type": "code",
     "collapsed": false,
     "input": [
      "#importing settings for graphs and things"
     ],
     "language": "python",
     "metadata": {},
     "outputs": [],
     "prompt_number": 3
    },
    {
     "cell_type": "code",
     "collapsed": false,
     "input": [
      "pd.options.display.mpl_style = 'default'\n",
      "\n",
      "import brewer2mpl\n",
      "bmap = brewer2mpl.get_map('Set3','qualitative',8,reverse=False)\n",
      "colors = bmap.mpl_colors\n",
      "\n",
      "\n",
      "font = {'family' : 'Open Sans',\n",
      "        'weight' : 'normal',\n",
      "        'size'   : 24}\n",
      "\n",
      "bigfont = {'family' : 'Open Sans',\n",
      "        'weight' : 'normal',\n",
      "        'size'   : 36,\n",
      "        'color'  : '#333333'}"
     ],
     "language": "python",
     "metadata": {},
     "outputs": [],
     "prompt_number": 4
    },
    {
     "cell_type": "code",
     "collapsed": false,
     "input": [
      "levels = [\n",
      "'Physiological',\n",
      "'Safety',\n",
      "'Belonging',\n",
      "'Esteem',\n",
      "'Self-Actualization']"
     ],
     "language": "python",
     "metadata": {},
     "outputs": [],
     "prompt_number": 5
    },
    {
     "cell_type": "code",
     "collapsed": false,
     "input": [
      "weights = [\n",
      "50**2,\n",
      "40**2,\n",
      "30**2,\n",
      "20**2,\n",
      "10**2\n",
      "]"
     ],
     "language": "python",
     "metadata": {},
     "outputs": [],
     "prompt_number": 6
    },
    {
     "cell_type": "code",
     "collapsed": false,
     "input": [
      "df = pd.DataFrame(weights, levels)"
     ],
     "language": "python",
     "metadata": {},
     "outputs": [],
     "prompt_number": 7
    },
    {
     "cell_type": "code",
     "collapsed": false,
     "input": [
      "df.plot(kind='barh', figsize=(27,9), color=colors, ylim=(-0.5,4.5), xlim=(0,2600), width=1, alpha=.95, legend=False, grid=False)\n",
      "plt.ylabel('', **font)\n",
      "plt.xlabel('', **font)\n",
      "plt.title('Maslow\\'s Hierarchy of Needs', **bigfont)\n",
      "mpl.rc('font', **font)"
     ],
     "language": "python",
     "metadata": {},
     "outputs": [
      {
       "metadata": {},
       "output_type": "display_data",
       "png": "[encoded data removed]",
       "text": [
        "<matplotlib.figure.Figure at 0xd08fa58>"
       ]
      }
     ],
     "prompt_number": 8
    },
    {
     "cell_type": "markdown",
     "metadata": {},
     "source": [
      "#Constructing the forumla for happiness"
     ]
    },
    {
     "cell_type": "markdown",
     "metadata": {},
     "source": [
      "The formula is essentially the same method used for calculating weighted GPA\n",
      "\n",
      " 1. The user defines a category, lower-case **n** (e.g. 'Health'), and assigns it a priority, upper-case **N**<sub>n</sub> (on a scale of 1-10).\n",
      " 2. Within each category **n**, the user defines at least one aspect, **x**<sub>n</sub> (e.g. 'Running'), and provides a self-evaluation, **p**<sub>x</sub> (also on a scale of 1-10).\n",
      " \n",
      " 3. Each category **n** is then weighted first against all other categories based on the priority **N**<sub>n</sub>, yielding a weighted category factor **N**'<sub>n</sub>\n",
      "> **N**'<sub>n</sub> = **N**<sub>n</sub> / (\u03a3 **N**<sub>n</sub>)\n",
      " \n",
      " 4. Each aspect **x**<sub>n</sub> is also weighted against all other aspects within its category, yielding an aspect factor **x**'\n",
      "> **x**<sub>n</sub>' = **x**<sub>n</sub> / (\u03a3 **x**<sub>n</sub>)  \n",
      "\n",
      " 5. Then, the resulting factor **x**'<sub>n</sub> is multiplied by its associated evaluation **p**<sub>x</sub>, to yield a weighted evaluation score, **p**'<sub>x</sub>\n",
      "> **p**<sub>x</sub>' = **x**<sub>n</sub>'(**p**<sub>x</sub>)\n",
      "\n",
      " 6. This weighted **p**<sub>x</sub>' is again weighted by multiplying the category factor **N**<sub>n</sub>', yielding a final aspect score **q**<sub>x</sub>\n",
      "> **q**<sub>x</sub> = **N**<sub>n</sub>'(**p**<sub>x</sub>')\n",
      "\n",
      " 7. Finally, the sum of all existing doubly-weighted aspect scores **q**<sub>x</sub> is taken and multiplied by 10 (to yield a score out of 100) in order to give the HapCap score, **Q**.\n",
      " >**Q** = 10 (\u03a3 **q**<sub>x</sub>)\n",
      " \n",
      "\n",
      "All in all, we have the derived formula: **Q** = 10 (\u03a3 \\[(**x**<sub>n</sub> / (\u03a3 **x**<sub>n</sub>)(**p**<sub>x</sub>)] \\[**N**<sub>n</sub> / (\u03a3 **N**<sub>n</sub>])"
     ]
    },
    {
     "cell_type": "markdown",
     "metadata": {},
     "source": [
      "---"
     ]
    },
    {
     "cell_type": "markdown",
     "metadata": {},
     "source": [
      "#Building a working HapCap calculator"
     ]
    },
    {
     "cell_type": "markdown",
     "metadata": {},
     "source": [
      "Categories: Categories and corresponding priority ratings  \n",
      "Activities: Activities and corresponding priority ratings, personal scores, and designated Categories"
     ]
    },
    {
     "cell_type": "markdown",
     "metadata": {},
     "source": [
      "###Item aggregator"
     ]
    },
    {
     "cell_type": "code",
     "collapsed": false,
     "input": [
      "deck = []\n",
      "asking = True\n",
      "    \n",
      "def asker():\n",
      "    aggregator = raw_input('What item would you like to add? ')\n",
      "    deck.append(aggregator)\n",
      "    again = raw_input('Would you like to add another item? (y/n) ')\n",
      "    if again == 'y':\n",
      "            asker()\n",
      "    else:\n",
      "        asking == False\n",
      "        df = pd.DataFrame(deck)\n",
      "        name=raw_input('What is this a list of? ')\n",
      "        df.columns=[name]\n",
      "        print 'Here\\'s your list of',df\n",
      "\n",
      "while asking == True:\n",
      "    add = raw_input('Would you like to add an item? (y/n) ')\n",
      "    if add == 'y':\n",
      "        asker()\n",
      "        break\n",
      "        \n",
      "    elif add == 'n':\n",
      "        print 'Okay cool beans sir'\n",
      "        asking == False\n",
      "        break\n",
      "            \n",
      "    else:\n",
      "        print 'go away'\n",
      "        asking == False\n",
      "        break"
     ],
     "language": "python",
     "metadata": {},
     "outputs": [
      {
       "name": "stdout",
       "output_type": "stream",
       "stream": "stdout",
       "text": [
        "Would you like to add an item? (y/n) y\n"
       ]
      },
      {
       "name": "stdout",
       "output_type": "stream",
       "stream": "stdout",
       "text": [
        "What item would you like to add? incorporate score value, factor value, and category associations\n"
       ]
      },
      {
       "name": "stdout",
       "output_type": "stream",
       "stream": "stdout",
       "text": [
        "Would you like to add another item? (y/n) y\n"
       ]
      },
      {
       "name": "stdout",
       "output_type": "stream",
       "stream": "stdout",
       "text": [
        "What item would you like to add? enable multiple list generation\n"
       ]
      },
      {
       "name": "stdout",
       "output_type": "stream",
       "stream": "stdout",
       "text": [
        "Would you like to add another item? (y/n) y\n"
       ]
      },
      {
       "name": "stdout",
       "output_type": "stream",
       "stream": "stdout",
       "text": [
        "What item would you like to add? incorporate the double-weighted average feature\n"
       ]
      },
      {
       "name": "stdout",
       "output_type": "stream",
       "stream": "stdout",
       "text": [
        "Would you like to add another item? (y/n) n\n"
       ]
      },
      {
       "name": "stdout",
       "output_type": "stream",
       "stream": "stdout",
       "text": [
        "What is this a list of? to-do's\n"
       ]
      },
      {
       "output_type": "stream",
       "stream": "stdout",
       "text": [
        "Here's your list of                                              to-do's\n",
        "0  incorporate score value, factor value, and cat...\n",
        "1                    enable multiple list generation\n",
        "2    incorporate the double-weighted average feature\n"
       ]
      }
     ],
     "prompt_number": 51
    },
    {
     "cell_type": "code",
     "collapsed": false,
     "input": [
      "hapcap = deck"
     ],
     "language": "python",
     "metadata": {},
     "outputs": [],
     "prompt_number": 52
    },
    {
     "cell_type": "code",
     "collapsed": false,
     "input": [
      "things = pd.DataFrame(hapcap)\n",
      "things.columns=['to-do\\'s']\n",
      "things"
     ],
     "language": "python",
     "metadata": {},
     "outputs": [
      {
       "html": [
        "<div style=\"max-height:1000px;max-width:1500px;overflow:auto;\">\n",
        "<table border=\"1\" class=\"dataframe\">\n",
        "  <thead>\n",
        "    <tr style=\"text-align: right;\">\n",
        "      <th></th>\n",
        "      <th>to-do's</th>\n",
        "    </tr>\n",
        "  </thead>\n",
        "  <tbody>\n",
        "    <tr>\n",
        "      <th>0</th>\n",
        "      <td> incorporate score value, factor value, and cat...</td>\n",
        "    </tr>\n",
        "    <tr>\n",
        "      <th>1</th>\n",
        "      <td>                   enable multiple list generation</td>\n",
        "    </tr>\n",
        "    <tr>\n",
        "      <th>2</th>\n",
        "      <td>   incorporate the double-weighted average feature</td>\n",
        "    </tr>\n",
        "  </tbody>\n",
        "</table>\n",
        "</div>"
       ],
       "metadata": {},
       "output_type": "pyout",
       "prompt_number": 56,
       "text": [
        "                                             to-do's\n",
        "0  incorporate score value, factor value, and cat...\n",
        "1                    enable multiple list generation\n",
        "2    incorporate the double-weighted average feature"
       ]
      }
     ],
     "prompt_number": 56
    },
    {
     "cell_type": "markdown",
     "metadata": {},
     "source": [
      "*Note to self: should additional lists be created within the function, or from a repetition of the function, then appended to the first list externally?*"
     ]
    }
   ],
   "metadata": {}
  }
 ]
}
